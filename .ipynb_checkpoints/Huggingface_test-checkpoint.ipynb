{
 "cells": [
  {
   "cell_type": "code",
   "execution_count": 1,
   "id": "63678ac3-2f98-4eb1-afad-7bce43b6fc60",
   "metadata": {},
   "outputs": [
    {
     "name": "stderr",
     "output_type": "stream",
     "text": [
      "Some weights of the model checkpoint at bert-base-uncased were not used when initializing BertForMaskedLM: ['cls.seq_relationship.bias', 'cls.seq_relationship.weight']\n",
      "- This IS expected if you are initializing BertForMaskedLM from the checkpoint of a model trained on another task or with another architecture (e.g. initializing a BertForSequenceClassification model from a BertForPreTraining model).\n",
      "- This IS NOT expected if you are initializing BertForMaskedLM from the checkpoint of a model that you expect to be exactly identical (initializing a BertForSequenceClassification model from a BertForSequenceClassification model).\n"
     ]
    },
    {
     "data": {
      "text/plain": [
       "[{'sequence': \"hello i'm a fashion model.\",\n",
       "  'score': 0.10731068253517151,\n",
       "  'token': 4827,\n",
       "  'token_str': 'fashion'},\n",
       " {'sequence': \"hello i'm a role model.\",\n",
       "  'score': 0.08774490654468536,\n",
       "  'token': 2535,\n",
       "  'token_str': 'role'},\n",
       " {'sequence': \"hello i'm a new model.\",\n",
       "  'score': 0.053383808583021164,\n",
       "  'token': 2047,\n",
       "  'token_str': 'new'},\n",
       " {'sequence': \"hello i'm a super model.\",\n",
       "  'score': 0.04667206108570099,\n",
       "  'token': 3565,\n",
       "  'token_str': 'super'},\n",
       " {'sequence': \"hello i'm a fine model.\",\n",
       "  'score': 0.027095943689346313,\n",
       "  'token': 2986,\n",
       "  'token_str': 'fine'}]"
      ]
     },
     "execution_count": 1,
     "metadata": {},
     "output_type": "execute_result"
    }
   ],
   "source": [
    "from transformers import pipeline\n",
    "unmasker = pipeline('fill-mask', model='bert-base-uncased')\n",
    "unmasker(\"Hello I'm a [MASK] model.\")"
   ]
  },
  {
   "cell_type": "code",
   "execution_count": 2,
   "id": "e3c79771-7e0b-41d1-bbd8-4bfaae2cb780",
   "metadata": {},
   "outputs": [
    {
     "name": "stderr",
     "output_type": "stream",
     "text": [
      "Some weights of the model checkpoint at bert-base-uncased were not used when initializing BertModel: ['cls.seq_relationship.bias', 'cls.predictions.transform.dense.weight', 'cls.predictions.bias', 'cls.predictions.decoder.weight', 'cls.predictions.transform.LayerNorm.weight', 'cls.predictions.transform.dense.bias', 'cls.predictions.transform.LayerNorm.bias', 'cls.seq_relationship.weight']\n",
      "- This IS expected if you are initializing BertModel from the checkpoint of a model trained on another task or with another architecture (e.g. initializing a BertForSequenceClassification model from a BertForPreTraining model).\n",
      "- This IS NOT expected if you are initializing BertModel from the checkpoint of a model that you expect to be exactly identical (initializing a BertForSequenceClassification model from a BertForSequenceClassification model).\n"
     ]
    }
   ],
   "source": [
    "from transformers import BertTokenizer, BertModel\n",
    "tokenizer = BertTokenizer.from_pretrained('bert-base-uncased')\n",
    "model = BertModel.from_pretrained(\"bert-base-uncased\")\n",
    "text = \"Replace me by any text you'd like.\"\n",
    "encoded_input = tokenizer(text, return_tensors='pt')\n",
    "output = model(**encoded_input)"
   ]
  },
  {
   "cell_type": "code",
   "execution_count": 3,
   "id": "2cd58c02-fc7a-4a03-bc04-488a9736146e",
   "metadata": {
    "scrolled": true,
    "tags": []
   },
   "outputs": [
    {
     "name": "stderr",
     "output_type": "stream",
     "text": [
      "Some layers from the model checkpoint at bert-base-uncased were not used when initializing TFBertModel: ['nsp___cls', 'mlm___cls']\n",
      "- This IS expected if you are initializing TFBertModel from the checkpoint of a model trained on another task or with another architecture (e.g. initializing a BertForSequenceClassification model from a BertForPreTraining model).\n",
      "- This IS NOT expected if you are initializing TFBertModel from the checkpoint of a model that you expect to be exactly identical (initializing a BertForSequenceClassification model from a BertForSequenceClassification model).\n",
      "All the layers of TFBertModel were initialized from the model checkpoint at bert-base-uncased.\n",
      "If your task is similar to the task the model of the checkpoint was trained on, you can already use TFBertModel for predictions without further training.\n"
     ]
    },
    {
     "name": "stdout",
     "output_type": "stream",
     "text": [
      "TFBaseModelOutputWithPooling(last_hidden_state=<tf.Tensor: shape=(1, 12, 768), dtype=float32, numpy=\n",
      "array([[[ 0.13849437,  0.15803367, -0.29711083, ..., -0.27054793,\n",
      "         -0.28428832,  0.45782942],\n",
      "        [ 0.53699464, -0.23290282,  0.17522904, ...,  0.5544219 ,\n",
      "          0.49878597, -0.00256851],\n",
      "        [ 0.3004159 , -0.3476064 ,  0.12071918, ..., -0.45553666,\n",
      "          0.3289878 ,  0.87703526],\n",
      "        ...,\n",
      "        [ 0.38067174,  0.12021175,  0.8279428 , ..., -0.862485  ,\n",
      "         -0.5952897 ,  0.04667845],\n",
      "        [-0.02531218, -0.7178523 , -0.6955405 , ...,  0.07610174,\n",
      "         -0.6666528 , -0.34006792],\n",
      "        [ 0.7532148 ,  0.2388873 ,  0.07205677, ...,  0.24649811,\n",
      "         -0.645818  , -0.3215673 ]]], dtype=float32)>, pooler_output=<tf.Tensor: shape=(1, 768), dtype=float32, numpy=\n",
      "array([[-0.9376686 , -0.50426245, -0.9798984 ,  0.90303475,  0.93293625,\n",
      "        -0.24378785,  0.89260286,  0.22877775, -0.9531078 , -0.99999535,\n",
      "        -0.8861834 ,  0.9905511 ,  0.985522  ,  0.7155446 ,  0.94547945,\n",
      "        -0.8643608 , -0.6032552 , -0.6666044 ,  0.30215687, -0.15846321,\n",
      "         0.74579406,  1.        , -0.40211666,  0.42613882,  0.6151589 ,\n",
      "         0.9996231 , -0.8772867 ,  0.95937955,  0.95851403,  0.6950485 ,\n",
      "        -0.67192   ,  0.33248302, -0.99535733, -0.22689416, -0.96580315,\n",
      "        -0.99511164,  0.61258733, -0.7669516 ,  0.08722981,  0.0824453 ,\n",
      "        -0.95186484,  0.4712604 ,  0.99999815,  0.3300208 ,  0.7583268 ,\n",
      "        -0.2670399 , -1.        ,  0.3166936 , -0.9364522 ,  0.9910361 ,\n",
      "         0.97193813,  0.9892855 ,  0.21895947,  0.60478336,  0.5848523 ,\n",
      "        -0.4120006 , -0.0062705 ,  0.17195661, -0.3987394 , -0.61904037,\n",
      "        -0.6603346 ,  0.50687236, -0.9756997 , -0.90394455,  0.9926202 ,\n",
      "         0.93233806, -0.36866948, -0.48697516, -0.31428894,  0.04997985,\n",
      "         0.9128662 ,  0.33971697, -0.18814191, -0.9235031 ,  0.8674232 ,\n",
      "         0.3227838 , -0.64065397,  1.        , -0.7987457 , -0.99306935,\n",
      "         0.9629464 ,  0.9124466 ,  0.48286828, -0.72766453,  0.5997394 ,\n",
      "        -1.        ,  0.7548046 , -0.1596678 , -0.9941507 ,  0.33854327,\n",
      "         0.8394158 , -0.41573876,  0.29477444,  0.61114603, -0.574633  ,\n",
      "        -0.7185306 , -0.47681826, -0.9681373 , -0.43265998, -0.6732935 ,\n",
      "         0.12484669, -0.20923047, -0.5882756 , -0.4186167 ,  0.54475814,\n",
      "        -0.6124799 , -0.6138551 ,  0.47128153,  0.47784907,  0.7633495 ,\n",
      "         0.3975208 , -0.41485408,  0.70630425, -0.9680062 ,  0.7388906 ,\n",
      "        -0.42695594, -0.99475586, -0.6020116 , -0.9950457 ,  0.74599063,\n",
      "        -0.6343315 , -0.27540073,  0.9522368 , -0.57253677,  0.62174845,\n",
      "        -0.12958318, -0.9905139 , -1.        , -0.8708831 , -0.7506109 ,\n",
      "        -0.5008011 , -0.48272222, -0.9871585 , -0.98469794,  0.72151786,\n",
      "         0.96944445,  0.30137658,  0.99999064, -0.44275922,  0.96984947,\n",
      "        -0.5430009 , -0.81885576,  0.9180288 , -0.5132222 ,  0.9025644 ,\n",
      "         0.5272294 , -0.59399265,  0.29292095, -0.6931574 ,  0.71785975,\n",
      "        -0.9318025 , -0.27751943, -0.9160413 , -0.94569415, -0.32879862,\n",
      "         0.9555661 , -0.7927291 , -0.98600173, -0.19054072, -0.27596915,\n",
      "        -0.60623163,  0.90055454,  0.92661107,  0.43519562, -0.685788  ,\n",
      "         0.47201368,  0.28547394,  0.76842993, -0.8646838 , -0.56256825,\n",
      "         0.5126121 , -0.5468249 , -0.9490254 , -0.99070895, -0.58099055,\n",
      "         0.7145942 ,  0.99483377,  0.7981005 ,  0.34626973,  0.93483984,\n",
      "        -0.42393753,  0.9332676 , -0.97544336,  0.9935817 , -0.2595448 ,\n",
      "         0.4664814 , -0.5401034 ,  0.49471626, -0.8722669 ,  0.0038856 ,\n",
      "         0.8377812 , -0.9134507 , -0.84316254, -0.25145605, -0.5177938 ,\n",
      "        -0.4687914 , -0.9490786 ,  0.56918806, -0.4856425 , -0.48571298,\n",
      "        -0.22468874,  0.96097255,  0.9822771 ,  0.749563  ,  0.62554044,\n",
      "         0.85517895, -0.9073795 , -0.5803348 ,  0.28725106,  0.30166   ,\n",
      "         0.30168825,  0.99737513, -0.8503338 , -0.21064128, -0.9260985 ,\n",
      "        -0.99070585, -0.02514449, -0.94884807, -0.39714852, -0.80973977,\n",
      "         0.87069386, -0.75135237,  0.8107117 ,  0.5488746 , -0.9829877 ,\n",
      "        -0.85695094,  0.48524314, -0.6155204 ,  0.48460367, -0.28924447,\n",
      "         0.9647624 ,  0.9857898 , -0.70644313,  0.7119519 ,  0.9593691 ,\n",
      "        -0.95899874, -0.87077934,  0.7893949 , -0.35615316,  0.86022305,\n",
      "        -0.7243658 ,  0.9881905 ,  0.98757917,  0.9281995 , -0.9547451 ,\n",
      "        -0.83298504, -0.79923815, -0.83972144, -0.23331895,  0.23188101,\n",
      "         0.97115767,  0.60554415,  0.6387647 ,  0.24260841, -0.7883635 ,\n",
      "         0.998129  , -0.94485736, -0.9803661 , -0.8185443 , -0.35324916,\n",
      "        -0.9950915 ,  0.97288656,  0.41656175,  0.8094779 , -0.62269586,\n",
      "        -0.8182584 , -0.9816744 ,  0.85311615,  0.12433742,  0.9826041 ,\n",
      "        -0.63752764, -0.9450094 , -0.80932486, -0.9747769 ,  0.04123986,\n",
      "        -0.3098899 , -0.81532997, -0.0308278 , -0.92554295,  0.56773394,\n",
      "         0.62173146,  0.6651963 , -0.9682194 ,  0.99972993,  1.        ,\n",
      "         0.9825506 ,  0.9013491 ,  0.895025  , -0.9999985 , -0.8080706 ,\n",
      "         0.9999988 , -0.9995216 , -1.        , -0.936141  , -0.8199467 ,\n",
      "         0.47561702, -1.        , -0.2697408 , -0.01113292, -0.9296895 ,\n",
      "         0.84917444,  0.98792136,  0.99502844, -1.        ,  0.8652996 ,\n",
      "         0.9512635 , -0.5680194 ,  0.99655247, -0.67130655,  0.98148453,\n",
      "         0.6010017 ,  0.7413981 , -0.3265784 ,  0.5574914 , -0.9800967 ,\n",
      "        -0.8955687 , -0.80828035, -0.9266628 ,  0.99993646,  0.2542771 ,\n",
      "        -0.79694366, -0.88542163,  0.7831082 , -0.13910837, -0.00578525,\n",
      "        -0.9786473 , -0.45041507,  0.8894263 ,  0.9020529 ,  0.3021313 ,\n",
      "         0.2650268 , -0.57499814,  0.5099279 ,  0.12191934,  0.11697232,\n",
      "         0.648497  , -0.95052016, -0.38876802, -0.69388103,  0.250748  ,\n",
      "        -0.7526496 , -0.9831058 ,  0.9646314 , -0.2741877 ,  0.98647374,\n",
      "         1.        ,  0.37566686, -0.904567  ,  0.8846753 ,  0.4860338 ,\n",
      "        -0.5516137 ,  1.        ,  0.90920043, -0.9904014 , -0.49600843,\n",
      "         0.79007655, -0.71561146, -0.82806855,  0.9998583 , -0.4197116 ,\n",
      "        -0.92815864, -0.77311796,  0.99445784, -0.99556315,  0.9997706 ,\n",
      "        -0.8984947 , -0.98385257,  0.97349375,  0.96549004, -0.81017697,\n",
      "        -0.83259684,  0.10193048, -0.6724816 ,  0.45622456, -0.9411902 ,\n",
      "         0.83952594,  0.69779927, -0.12007092,  0.9287697 , -0.83436424,\n",
      "        -0.63136786,  0.43552285, -0.8900381 , -0.45651022,  0.9873684 ,\n",
      "         0.5708791 , -0.2112602 , -0.02075859, -0.41834122, -0.9116626 ,\n",
      "        -0.9780572 ,  0.82459533,  1.        , -0.42291093,  0.9489233 ,\n",
      "        -0.52238953, -0.09864292,  0.22019146,  0.74584574,  0.7152597 ,\n",
      "        -0.35282293, -0.8800404 ,  0.92982686, -0.9715916 , -0.99490005,\n",
      "         0.7277817 ,  0.22075552, -0.49446714,  1.        ,  0.62845856,\n",
      "         0.3794698 ,  0.7226923 ,  0.9993153 ,  0.03017291,  0.5935945 ,\n",
      "         0.9815554 ,  0.9914489 , -0.3465569 ,  0.5882802 ,  0.8364225 ,\n",
      "        -0.98241574, -0.4488421 , -0.76118135,  0.1331235 , -0.9479081 ,\n",
      "        -0.05578303, -0.969741  ,  0.9845798 ,  0.9960185 ,  0.5819275 ,\n",
      "         0.3122098 ,  0.8577008 ,  1.        , -0.92741907,  0.6694629 ,\n",
      "        -0.13615502,  0.80356455, -0.9999917 , -0.80566025, -0.4505461 ,\n",
      "        -0.17120315, -0.95124006, -0.5898933 ,  0.399135  , -0.9754468 ,\n",
      "         0.9563354 ,  0.88058126, -0.99373615, -0.9922819 , -0.4980256 ,\n",
      "         0.885262  ,  0.14403424, -0.9993916 , -0.8985853 , -0.6271127 ,\n",
      "         0.83846223, -0.32403404, -0.94700724, -0.70068467, -0.4768425 ,\n",
      "         0.57425904, -0.22166148,  0.56660825,  0.9667009 ,  0.7932907 ,\n",
      "        -0.94009775, -0.67459756, -0.17522553, -0.9163153 ,  0.9409278 ,\n",
      "        -0.87014836, -0.98935544, -0.25145087,  1.        , -0.4086602 ,\n",
      "         0.9385681 ,  0.6049477 ,  0.8219067 , -0.27113768,  0.3327871 ,\n",
      "         0.98272514,  0.36125317, -0.8315119 , -0.9849651 , -0.28514314,\n",
      "        -0.5398371 ,  0.8254503 ,  0.84150165,  0.7592734 ,  0.9412477 ,\n",
      "         0.96271414,  0.27647987, -0.07361666,  0.04004209,  0.9998473 ,\n",
      "        -0.30944923, -0.19350371, -0.4688902 , -0.2510974 , -0.46295762,\n",
      "        -0.2909449 ,  1.        ,  0.39626655,  0.7775876 , -0.9949596 ,\n",
      "        -0.9807501 , -0.93024135,  1.        ,  0.88225347, -0.6848057 ,\n",
      "         0.8123519 ,  0.62412024, -0.25522706,  0.826504  , -0.27909258,\n",
      "        -0.31682423,  0.22949694,  0.16822813,  0.96271443, -0.673693  ,\n",
      "        -0.9903473 , -0.7910407 ,  0.7098946 , -0.9769766 ,  0.9999993 ,\n",
      "        -0.7029459 , -0.3960927 , -0.5980374 , -0.66830724, -0.2729555 ,\n",
      "        -0.0182801 , -0.98818284, -0.38422874,  0.56054986,  0.9744487 ,\n",
      "         0.3505126 , -0.48985663, -0.9298199 ,  0.957818  ,  0.95322686,\n",
      "        -0.9858815 , -0.95974743,  0.9777002 , -0.9784186 ,  0.7550463 ,\n",
      "         1.        ,  0.34454495,  0.6784813 ,  0.39463493, -0.5349018 ,\n",
      "         0.55413103, -0.67542285,  0.8077539 , -0.9594719 , -0.44846866,\n",
      "        -0.3900978 ,  0.3982286 , -0.13203813, -0.28946537,  0.7859673 ,\n",
      "         0.34988922, -0.55318063, -0.72935706, -0.23609452,  0.466501  ,\n",
      "         0.93319255, -0.30480596, -0.19159979,  0.23184699, -0.32289043,\n",
      "        -0.9324096 , -0.4671333 , -0.6315502 , -1.        ,  0.80671257,\n",
      "        -1.        ,  0.8035298 ,  0.40654302, -0.37005413,  0.87607807,\n",
      "         0.7827657 ,  0.82978225, -0.862874  , -0.97946614,  0.13223822,\n",
      "         0.85290915, -0.5028512 , -0.90569985, -0.69181865,  0.5016917 ,\n",
      "        -0.20535964,  0.15638587, -0.7398207 ,  0.8155572 , -0.3415081 ,\n",
      "         1.        ,  0.26581335, -0.8291102 , -0.98213255,  0.24904262,\n",
      "        -0.3009155 ,  1.        , -0.89517266, -0.98315054,  0.33317608,\n",
      "        -0.91795313, -0.8493626 ,  0.58682734,  0.16525885, -0.8521994 ,\n",
      "        -0.99608696,  0.9221128 ,  0.8659204 , -0.64776933,  0.79266727,\n",
      "        -0.39903486, -0.7690457 ,  0.15114972,  0.98681283,  0.9924329 ,\n",
      "         0.73167187,  0.9082367 , -0.122857  , -0.5258841 ,  0.9840399 ,\n",
      "         0.40088126, -0.04374164,  0.13614309,  1.        ,  0.40038565,\n",
      "        -0.94972116, -0.13096821, -0.97877586, -0.3522177 , -0.95512307,\n",
      "         0.37540883,  0.31004676,  0.9194462 , -0.4459938 ,  0.97379774,\n",
      "        -0.97135913,  0.19022791, -0.88938934, -0.7862855 ,  0.4756422 ,\n",
      "        -0.94626576, -0.9892314 , -0.99380004,  0.81410587, -0.40777257,\n",
      "        -0.18959849,  0.21034424,  0.17160597,  0.6322554 ,  0.55661726,\n",
      "        -1.        ,  0.964214  ,  0.6151084 ,  0.97675115,  0.9768066 ,\n",
      "         0.91147333,  0.8107632 ,  0.32505018, -0.99198717, -0.991041  ,\n",
      "        -0.5438085 , -0.35676116,  0.79599   ,  0.7647194 ,  0.8900101 ,\n",
      "         0.6468974 , -0.48745587, -0.47928303, -0.77564865, -0.84238917,\n",
      "        -0.99716246,  0.59615904, -0.8678964 , -0.96773607,  0.97183096,\n",
      "        -0.34586993, -0.15346009, -0.21419062, -0.9586306 ,  0.9321217 ,\n",
      "         0.7627994 ,  0.46360654,  0.08615654,  0.507122  ,  0.9169914 ,\n",
      "         0.95967096,  0.9881759 , -0.92308354,  0.85539085, -0.91962266,\n",
      "         0.6711929 ,  0.9380763 , -0.96062005,  0.23340009,  0.8301331 ,\n",
      "        -0.5559883 ,  0.3695518 , -0.47529373, -0.9740121 ,  0.8173188 ,\n",
      "        -0.4268279 ,  0.7772709 , -0.4798633 ,  0.06393439, -0.47194988,\n",
      "        -0.26068944, -0.76228976, -0.8741694 ,  0.6577375 ,  0.62058306,\n",
      "         0.9218555 ,  0.9359927 , -0.04964961, -0.894208  , -0.37005988,\n",
      "        -0.89443964, -0.9525717 ,  0.95361155, -0.08517785, -0.29660848,\n",
      "         0.9030589 ,  0.13212918,  0.93236905,  0.4289261 , -0.49885222,\n",
      "        -0.4174459 , -0.76379406,  0.8886687 , -0.7892542 , -0.76390463,\n",
      "        -0.70921826,  0.81043965,  0.35944948,  1.        , -0.91878027,\n",
      "        -0.9877902 , -0.8267624 , -0.6012647 ,  0.4993151 , -0.7879552 ,\n",
      "        -1.        ,  0.36114287, -0.83131987,  0.85232925, -0.93979406,\n",
      "         0.94996715, -0.93384016, -0.9851239 , -0.3496276 ,  0.8436344 ,\n",
      "         0.9374549 , -0.5158146 , -0.8988892 ,  0.51972926, -0.87964314,\n",
      "         0.99792325,  0.8753028 , -0.8274133 , -0.00115967,  0.60140914,\n",
      "        -0.9184295 , -0.7398812 ,  0.92283374]], dtype=float32)>, hidden_states=None, attentions=None)\n"
     ]
    }
   ],
   "source": [
    "from transformers import BertTokenizer, TFBertModel\n",
    "tokenizer = BertTokenizer.from_pretrained('bert-base-uncased')\n",
    "model = TFBertModel.from_pretrained(\"bert-base-uncased\")\n",
    "text = \"Replace me by any text you'd like.\"\n",
    "encoded_input = tokenizer(text, return_tensors='tf')\n",
    "output = model(encoded_input)\n",
    "print(output)"
   ]
  },
  {
   "cell_type": "code",
   "execution_count": 4,
   "id": "d4dfb48e-36da-4319-9851-24299b3d5b63",
   "metadata": {},
   "outputs": [
    {
     "name": "stderr",
     "output_type": "stream",
     "text": [
      "Some weights of the model checkpoint at bert-base-uncased were not used when initializing BertForMaskedLM: ['cls.seq_relationship.bias', 'cls.seq_relationship.weight']\n",
      "- This IS expected if you are initializing BertForMaskedLM from the checkpoint of a model trained on another task or with another architecture (e.g. initializing a BertForSequenceClassification model from a BertForPreTraining model).\n",
      "- This IS NOT expected if you are initializing BertForMaskedLM from the checkpoint of a model that you expect to be exactly identical (initializing a BertForSequenceClassification model from a BertForSequenceClassification model).\n"
     ]
    },
    {
     "data": {
      "text/plain": [
       "[{'sequence': 'the man worked as a carpenter.',\n",
       "  'score': 0.09747551381587982,\n",
       "  'token': 10533,\n",
       "  'token_str': 'carpenter'},\n",
       " {'sequence': 'the man worked as a waiter.',\n",
       "  'score': 0.05238323658704758,\n",
       "  'token': 15610,\n",
       "  'token_str': 'waiter'},\n",
       " {'sequence': 'the man worked as a barber.',\n",
       "  'score': 0.04962710291147232,\n",
       "  'token': 13362,\n",
       "  'token_str': 'barber'},\n",
       " {'sequence': 'the man worked as a mechanic.',\n",
       "  'score': 0.03788599371910095,\n",
       "  'token': 15893,\n",
       "  'token_str': 'mechanic'},\n",
       " {'sequence': 'the man worked as a salesman.',\n",
       "  'score': 0.03768093138933182,\n",
       "  'token': 18968,\n",
       "  'token_str': 'salesman'}]"
      ]
     },
     "execution_count": 4,
     "metadata": {},
     "output_type": "execute_result"
    }
   ],
   "source": [
    "from transformers import pipeline\n",
    "unmasker = pipeline('fill-mask', model='bert-base-uncased')\n",
    "unmasker(\"The man worked as a [MASK].\")"
   ]
  },
  {
   "cell_type": "code",
   "execution_count": null,
   "id": "3c60df13-b099-4385-9c69-29e8ea430127",
   "metadata": {},
   "outputs": [],
   "source": []
  },
  {
   "cell_type": "code",
   "execution_count": null,
   "id": "65443fe2-f4c4-431a-b105-7f65ec0fa89f",
   "metadata": {},
   "outputs": [],
   "source": []
  }
 ],
 "metadata": {
  "kernelspec": {
   "display_name": "Python 3 (ipykernel)",
   "language": "python",
   "name": "python3"
  },
  "language_info": {
   "codemirror_mode": {
    "name": "ipython",
    "version": 3
   },
   "file_extension": ".py",
   "mimetype": "text/x-python",
   "name": "python",
   "nbconvert_exporter": "python",
   "pygments_lexer": "ipython3",
   "version": "3.8.8"
  }
 },
 "nbformat": 4,
 "nbformat_minor": 5
}
